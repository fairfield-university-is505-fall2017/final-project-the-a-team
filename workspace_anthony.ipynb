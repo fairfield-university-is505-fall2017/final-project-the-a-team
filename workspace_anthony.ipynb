{
 "cells": [
  {
   "cell_type": "code",
   "execution_count": 45,
   "metadata": {
    "collapsed": true
   },
   "outputs": [],
   "source": [
    "# OK! Let's start with importing the all-important modules.\n",
    "import pandas as pd\n",
    "import numpy as np\n",
    "import matplotlib.pyplot as plt\n",
    "import seaborn as sns"
   ]
  },
  {
   "cell_type": "code",
   "execution_count": 46,
   "metadata": {
    "collapsed": true
   },
   "outputs": [],
   "source": [
    "# Nice! We've taken the first steps. Let's keep going with importing the data.\n",
    "result = pd.read_csv(\"adult.csv\")"
   ]
  },
  {
   "cell_type": "code",
   "execution_count": 47,
   "metadata": {
    "scrolled": true
   },
   "outputs": [
    {
     "data": {
      "image/png": "[encoded data removed]",
      "text/plain": [
       "<matplotlib.figure.Figure at 0x2aeda7305f8>"
      ]
     },
     "metadata": {},
     "output_type": "display_data"
    }
   ],
   "source": [
    "# So let's answer some questions now. A5: - \"Create a bar chart that shows the distribution of income among females and males.\"\n",
    "result.describe(include = 'all')\n",
    "\n",
    "ax = sns.countplot(x=result['sex'], hue=result['income'], data=result, palette='Set1')\n",
    "plt.xlabel('Sex')\n",
    "plt.ylabel('Frequency of Occurence')\n",
    "plt.show()"
   ]
  },
  {
   "cell_type": "code",
   "execution_count": null,
   "metadata": {
    "collapsed": true
   },
   "outputs": [],
   "source": [
    "# So let's answer another question now. A6: - \"Create a histogram that shows the distribution of age among respondents.\"\n",
    "ERBMI_exercise = ERBMI[EUEXERCISE==1]\n",
    "ERBMI_Noexercise = ERBMI[EUEXERCISE==2]\n",
    "plt.hist(ERBMI_exercise, alpha=.40, label='Exercise', bins=12, ec=\"k\")\n",
    "plt.hist(ERBMI_Noexercise, alpha=.40, label='No Exercise', bins=12, ec=\"k\")\n",
    "plt.xlabel('Body mass index')\n",
    "plt.ylabel('Frequency')\n",
    "plt.title('Frequency and Body Mass Index')\n",
    "\n",
    "plt.legend()\n",
    "\n",
    "plt.show()"
   ]
  },
  {
   "cell_type": "code",
   "execution_count": null,
   "metadata": {
    "collapsed": true
   },
   "outputs": [],
   "source": []
  }
 ],
 "metadata": {
  "kernelspec": {
   "display_name": "Python 3",
   "language": "python",
   "name": "python3"
  },
  "language_info": {
   "codemirror_mode": {
    "name": "ipython",
    "version": 3
   },
   "file_extension": ".py",
   "mimetype": "text/x-python",
   "name": "python",
   "nbconvert_exporter": "python",
   "pygments_lexer": "ipython3",
   "version": "3.6.2"
  }
 },
 "nbformat": 4,
 "nbformat_minor": 2
}
