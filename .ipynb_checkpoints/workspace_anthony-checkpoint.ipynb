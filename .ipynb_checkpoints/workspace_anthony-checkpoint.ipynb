{
 "cells": [
  {
   "cell_type": "code",
   "execution_count": null,
   "metadata": {
    "collapsed": true
   },
   "outputs": [],
   "source": [
    "# OK! Let's start with importing the all-important modules.\n",
    "import pandas as pd\n",
    "import numpy as np\n",
    "import matplotlib.pyplot as plt\n",
    "\n",
    "# Nice! We've taken the first steps. Let's keep going with importing the data.\n",
    "source_data = pd.read_csv(\"adult.csv\")\n",
    "\n",
    "# So let's answer some questions now. A5: - \"Create a histogram that shows the distribution of income among females and males.\"\n",
    "# Step 1:\n",
    "ERBMI_exercise = ERBMI[EUEXERCISE==1]\n",
    "ERBMI_Noexercise = ERBMI[EUEXERCISE==2]\n",
    "plt.hist(ERBMI_exercise, alpha=.40, label='Exercise', bins=12, ec=\"k\")\n",
    "plt.hist(ERBMI_Noexercise, alpha=.40, label='No Exercise', bins=12, ec=\"k\")\n",
    "plt.xlabel('Body mass index')\n",
    "plt.ylabel('Frequency')\n",
    "plt.title('Frequency and Body Mass Index')\n",
    "\n",
    "plt.legend()\n",
    "\n",
    "plt.show()\n",
    "\n",
    "# So let's answer some questions now. A6: - \"Create a histogram that shows the distribution of age among respondents.\"\n",
    "ERBMI_exercise = ERBMI[EUEXERCISE==1]\n",
    "ERBMI_Noexercise = ERBMI[EUEXERCISE==2]\n",
    "plt.hist(ERBMI_exercise, alpha=.40, label='Exercise', bins=12, ec=\"k\")\n",
    "plt.hist(ERBMI_Noexercise, alpha=.40, label='No Exercise', bins=12, ec=\"k\")\n",
    "plt.xlabel('Body mass index')\n",
    "plt.ylabel('Frequency')\n",
    "plt.title('Frequency and Body Mass Index')\n",
    "\n",
    "plt.legend()\n",
    "\n",
    "plt.show()"
   ]
  }
 ],
 "metadata": {
  "kernelspec": {
   "display_name": "Python 3",
   "language": "python",
   "name": "python3"
  },
  "language_info": {
   "codemirror_mode": {
    "name": "ipython",
    "version": 3
   },
   "file_extension": ".py",
   "mimetype": "text/x-python",
   "name": "python",
   "nbconvert_exporter": "python",
   "pygments_lexer": "ipython3",
   "version": "3.6.2"
  }
 },
 "nbformat": 4,
 "nbformat_minor": 2
}
